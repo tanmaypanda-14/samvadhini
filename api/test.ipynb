{
 "cells": [
  {
   "cell_type": "code",
   "execution_count": 7,
   "metadata": {},
   "outputs": [],
   "source": [
    "import requests\n",
    "import json"
   ]
  },
  {
   "cell_type": "code",
   "execution_count": 8,
   "metadata": {},
   "outputs": [
    {
     "data": {
      "text/plain": [
       "'{\\n  \"documents\": [\\n    {\\n      \"answer\": {\\n        \"answer\": \" Name correction on grade cards/PDC needs to be done in ERP at the office of student section of your Department. Kindly contact the office of student section for the making the required corrections in ERP. Moreover, student must check his/her personal details from time to time in their ERP login.\", \\n        \"category\": \"Corrections on grade card /PDC\"\\n      }, \\n      \"question\": \"My name/Father\\'s Name/Mother\\'s name is incorrect on grade card. How do I get it corrected?\"\\n    }, \\n    {\\n      \"answer\": {\\n        \"answer\": \" A consolidated grade card will show consolidated result of a trimester (Regular & cleared backlog together).It shows revised GPA for that trimester. However, note that CGPA is not mentioned.\", \\n        \"category\": \"Consolidated grade card\"\\n      }, \\n      \"question\": \"What is a consolidated grade card?\"\\n    }, \\n    {\\n      \"answer\": {\\n        \"answer\": \" Yes, you can apply for a consolidated grade card.\", \\n        \"category\": \"Consolidated grade card\"\\n      }, \\n      \"question\": \"Can I get backlog and regular result on a single grade card?\"\\n    }, \\n    {\\n      \"answer\": {\\n        \"answer\": \"You  must  pay  online.  Payment  details  are  mentioned  on  website (https://mitwpu.edu.in/examination).   Send   the   screenshot   of   payment   to exam.helpdesk@mitwpu.edu.in.\", \\n        \"category\": \"Duplicate Grade Card\"\\n      }, \\n      \"question\": \"What is the mode of payment for Duplicate grade card?\"\\n    }, \\n    {\\n      \"answer\": {\\n        \"answer\": \"You  must  pay  online.  Payment  details  are  mentioned  on  website (https://mitwpu.edu.in/examination).   Send   the   screenshot   of   payment   to exam.helpdesk@mitwpu.edu.in.Q When and how will I receive the consolidated grade card?\", \\n        \"category\": \"Consolidated grade card\"\\n      }, \\n      \"question\": \"What is the mode of payment for consolidated grade card?\"\\n    }, \\n    {\\n      \"answer\": {\\n        \"answer\": \" This message occurs because your result is withheld due to non-submission of eligibility documents, outstanding fees, etc. You need to contact student section for further clarification.\", \\n        \"category\": \"Result related queries\"\\n      }, \\n      \"question\": \"My result is not visible on ERP. It says Result is withheld. Contact Examination Department. What is the reason?\"\\n    }, \\n    {\\n      \"answer\": {\\n        \"answer\": \"Consolidated grade card shows revised result of only one trimester with revised GPA where as a transcript is a document that includes updated results of all trimesters with revised GPA and CGPA trimester wise.\", \\n        \"category\": \"Consolidated grade card\"\\n      }, \\n      \"question\": \"How is a Consolidated Grade Card different from a transcript?\"\\n    }, \\n    {\\n      \"answer\": {\\n        \"answer\": \"Paste I-Card size photograph on hall ticket and get it duly attested from Department of Examination.\", \\n        \"category\": \"Examination related queries (Applicable for Offline End Term Exam)\"\\n      }, \\n      \"question\": \"My photograph is not seen on hall ticket. What do I need to do?\"\\n    }, \\n    {\\n      \"answer\": {\\n        \"answer\": \"No. Results on ERP will not be attested.\", \\n        \"category\": \"Attestation of Grade Cards\"\\n      }, \\n      \"question\": \"Can I get my result on ERP attested?\"\\n    }, \\n    {\\n      \"answer\": {\\n        \"answer\": \" Grade card is issued only once. In case, you have lost your grade card, you can apply for a duplicate grade card only.\", \\n        \"category\": \"Duplicate Grade Card\"\\n      }, \\n      \"question\": \"I have lost my grade card? Can I get another copy of grade card?\"\\n    }\\n  ]\\n}\\n'"
      ]
     },
     "execution_count": 8,
     "metadata": {},
     "output_type": "execute_result"
    }
   ],
   "source": [
    "r=requests.post(\"http://127.0.0.1:5000/query\",data=json.dumps({\"msg\":\"वडिलांचा नाव कार्डवर चुकीचा आहे\"}), headers={\"Content-Type\":\"application/json\"})\n",
    "r.text"
   ]
  }
 ],
 "metadata": {
  "interpreter": {
   "hash": "45b368e6785e2cd5a7c775a810fd9753e06e1e4502f9915972042ae44a9ccaf7"
  },
  "kernelspec": {
   "display_name": "Python 3.9.12 ('haystack')",
   "language": "python",
   "name": "python3"
  },
  "language_info": {
   "codemirror_mode": {
    "name": "ipython",
    "version": 3
   },
   "file_extension": ".py",
   "mimetype": "text/x-python",
   "name": "python",
   "nbconvert_exporter": "python",
   "pygments_lexer": "ipython3",
   "version": "3.9.12"
  },
  "orig_nbformat": 4
 },
 "nbformat": 4,
 "nbformat_minor": 2
}
